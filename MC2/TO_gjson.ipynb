{
 "cells": [
  {
   "cell_type": "markdown",
   "metadata": {},
   "source": [
    "# Import's"
   ]
  },
  {
   "cell_type": "code",
   "execution_count": 55,
   "metadata": {},
   "outputs": [],
   "source": [
    "import pandas as pd\n",
    "import math"
   ]
  },
  {
   "cell_type": "markdown",
   "metadata": {},
   "source": [
    "# Data"
   ]
  },
  {
   "cell_type": "code",
   "execution_count": 56,
   "metadata": {},
   "outputs": [],
   "source": [
    "df = pd.read_excel('./data/gps_summary.xls')"
   ]
  },
  {
   "cell_type": "code",
   "execution_count": 57,
   "metadata": {},
   "outputs": [
    {
     "data": {
      "text/plain": [
       "Index(['Unnamed: 0', 'level_0', 'index', 'Timestamp', 'id', 'lat', 'long',\n",
       "       'LastName', 'FirstName', 'CarID', 'CurrentEmploymentType',\n",
       "       'CurrentEmploymentTitle', 'time_delta_seconds', 'timestamp_end',\n",
       "       'time_delta_minutes', 'date', 'time', 'location_status'],\n",
       "      dtype='object')"
      ]
     },
     "execution_count": 57,
     "metadata": {},
     "output_type": "execute_result"
    }
   ],
   "source": [
    "df.columns"
   ]
  },
  {
   "cell_type": "code",
   "execution_count": 58,
   "metadata": {},
   "outputs": [
    {
     "data": {
      "text/html": [
       "<div>\n",
       "<style scoped>\n",
       "    .dataframe tbody tr th:only-of-type {\n",
       "        vertical-align: middle;\n",
       "    }\n",
       "\n",
       "    .dataframe tbody tr th {\n",
       "        vertical-align: top;\n",
       "    }\n",
       "\n",
       "    .dataframe thead th {\n",
       "        text-align: right;\n",
       "    }\n",
       "</style>\n",
       "<table border=\"1\" class=\"dataframe\">\n",
       "  <thead>\n",
       "    <tr style=\"text-align: right;\">\n",
       "      <th></th>\n",
       "      <th>Unnamed: 0</th>\n",
       "      <th>level_0</th>\n",
       "      <th>index</th>\n",
       "      <th>Timestamp</th>\n",
       "      <th>id</th>\n",
       "      <th>lat</th>\n",
       "      <th>long</th>\n",
       "      <th>LastName</th>\n",
       "      <th>FirstName</th>\n",
       "      <th>CarID</th>\n",
       "      <th>CurrentEmploymentType</th>\n",
       "      <th>CurrentEmploymentTitle</th>\n",
       "      <th>time_delta_seconds</th>\n",
       "      <th>timestamp_end</th>\n",
       "      <th>time_delta_minutes</th>\n",
       "      <th>date</th>\n",
       "      <th>time</th>\n",
       "      <th>location_status</th>\n",
       "    </tr>\n",
       "  </thead>\n",
       "  <tbody>\n",
       "    <tr>\n",
       "      <td>0</td>\n",
       "      <td>0</td>\n",
       "      <td>78</td>\n",
       "      <td>2843</td>\n",
       "      <td>2014-01-06 07:22:04</td>\n",
       "      <td>1</td>\n",
       "      <td>36.063658</td>\n",
       "      <td>24.885866</td>\n",
       "      <td>Calixto</td>\n",
       "      <td>Nils</td>\n",
       "      <td>1.0</td>\n",
       "      <td>Information Technology</td>\n",
       "      <td>IT Helpdesk</td>\n",
       "      <td>2097</td>\n",
       "      <td>2014-01-06 07:57:01</td>\n",
       "      <td>34.950000</td>\n",
       "      <td>2014-01-06</td>\n",
       "      <td>07:22:04</td>\n",
       "      <td>sospechoso</td>\n",
       "    </tr>\n",
       "    <tr>\n",
       "      <td>1</td>\n",
       "      <td>1</td>\n",
       "      <td>853</td>\n",
       "      <td>25760</td>\n",
       "      <td>2014-01-06 12:26:27</td>\n",
       "      <td>1</td>\n",
       "      <td>36.076663</td>\n",
       "      <td>24.857591</td>\n",
       "      <td>Calixto</td>\n",
       "      <td>Nils</td>\n",
       "      <td>1.0</td>\n",
       "      <td>Information Technology</td>\n",
       "      <td>IT Helpdesk</td>\n",
       "      <td>3514</td>\n",
       "      <td>2014-01-06 13:25:01</td>\n",
       "      <td>58.566667</td>\n",
       "      <td>2014-01-06</td>\n",
       "      <td>12:26:27</td>\n",
       "      <td>sospechoso</td>\n",
       "    </tr>\n",
       "  </tbody>\n",
       "</table>\n",
       "</div>"
      ],
      "text/plain": [
       "   Unnamed: 0  level_0  index           Timestamp  id        lat       long  \\\n",
       "0           0       78   2843 2014-01-06 07:22:04   1  36.063658  24.885866   \n",
       "1           1      853  25760 2014-01-06 12:26:27   1  36.076663  24.857591   \n",
       "\n",
       "  LastName FirstName  CarID   CurrentEmploymentType CurrentEmploymentTitle  \\\n",
       "0  Calixto      Nils    1.0  Information Technology            IT Helpdesk   \n",
       "1  Calixto      Nils    1.0  Information Technology            IT Helpdesk   \n",
       "\n",
       "   time_delta_seconds       timestamp_end  time_delta_minutes       date  \\\n",
       "0                2097 2014-01-06 07:57:01           34.950000 2014-01-06   \n",
       "1                3514 2014-01-06 13:25:01           58.566667 2014-01-06   \n",
       "\n",
       "       time location_status  \n",
       "0  07:22:04      sospechoso  \n",
       "1  12:26:27      sospechoso  "
      ]
     },
     "execution_count": 58,
     "metadata": {},
     "output_type": "execute_result"
    }
   ],
   "source": [
    "df.head(2)"
   ]
  },
  {
   "cell_type": "markdown",
   "metadata": {},
   "source": [
    "## Agrego primer Clave"
   ]
  },
  {
   "cell_type": "code",
   "execution_count": 59,
   "metadata": {},
   "outputs": [],
   "source": [
    "base = {}\n",
    "for i, r in df.iterrows():\n",
    "    base[r['date']] = {}"
   ]
  },
  {
   "cell_type": "code",
   "execution_count": 67,
   "metadata": {},
   "outputs": [],
   "source": [
    "#base"
   ]
  },
  {
   "cell_type": "markdown",
   "metadata": {},
   "source": [
    "## Agrego segunda Clave"
   ]
  },
  {
   "cell_type": "code",
   "execution_count": 61,
   "metadata": {},
   "outputs": [],
   "source": [
    "df_json = df[['date', 'id']]\n",
    "for i, r in df_json.iterrows():\n",
    "    base[r['date']][str(r['id'])] = {}"
   ]
  },
  {
   "cell_type": "code",
   "execution_count": 68,
   "metadata": {},
   "outputs": [],
   "source": [
    "#base"
   ]
  },
  {
   "cell_type": "markdown",
   "metadata": {},
   "source": [
    "## Agrego tercer Clave"
   ]
  },
  {
   "cell_type": "code",
   "execution_count": 63,
   "metadata": {},
   "outputs": [],
   "source": [
    "df_json = df[['date', 'id', 'LastName', 'FirstName', 'CurrentEmploymentType', 'CurrentEmploymentTitle']]\n",
    "for i, r in df_json.iterrows():\n",
    "    base[r['date']][str(r['id'])]['CurrentEmploymentType'] = r['CurrentEmploymentType']\n",
    "    base[r['date']][str(r['id'])]['CurrentEmploymentTitle'] = r['CurrentEmploymentTitle']\n",
    "    base[r['date']][str(r['id'])]['LastName'] = r['LastName']\n",
    "    base[r['date']][str(r['id'])]['FirstName'] = r['FirstName']"
   ]
  },
  {
   "cell_type": "code",
   "execution_count": 69,
   "metadata": {},
   "outputs": [],
   "source": [
    "#base"
   ]
  },
  {
   "cell_type": "markdown",
   "metadata": {},
   "source": [
    "#### Agrego cuarta Clave"
   ]
  },
  {
   "cell_type": "code",
   "execution_count": 65,
   "metadata": {},
   "outputs": [],
   "source": [
    "df_json = df[['date', 'id', 'time', 'lat', 'long']]\n",
    "for i, r in df_json.iterrows():\n",
    "    base[r['date']][str(r['id'])][r['time']] = (r['lat'], r['long'])"
   ]
  },
  {
   "cell_type": "code",
   "execution_count": 70,
   "metadata": {},
   "outputs": [],
   "source": [
    "#base"
   ]
  }
 ],
 "metadata": {
  "kernelspec": {
   "display_name": "Python 3",
   "language": "python",
   "name": "python3"
  },
  "language_info": {
   "codemirror_mode": {
    "name": "ipython",
    "version": 3
   },
   "file_extension": ".py",
   "mimetype": "text/x-python",
   "name": "python",
   "nbconvert_exporter": "python",
   "pygments_lexer": "ipython3",
   "version": "3.7.4"
  }
 },
 "nbformat": 4,
 "nbformat_minor": 2
}
