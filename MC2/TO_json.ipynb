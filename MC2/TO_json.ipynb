{
 "cells": [
  {
   "cell_type": "markdown",
   "metadata": {},
   "source": [
    "# Import's"
   ]
  },
  {
   "cell_type": "code",
   "execution_count": 11,
   "metadata": {},
   "outputs": [],
   "source": [
    "import pandas as pd\n",
    "import math\n",
    "from datetime import datetime"
   ]
  },
  {
   "cell_type": "markdown",
   "metadata": {},
   "source": [
    "# Data"
   ]
  },
  {
   "cell_type": "code",
   "execution_count": 32,
   "metadata": {},
   "outputs": [],
   "source": [
    "df = pd.read_excel('./data/gps_summary.xls')"
   ]
  },
  {
   "cell_type": "code",
   "execution_count": 33,
   "metadata": {},
   "outputs": [
    {
     "data": {
      "text/plain": [
       "Index(['Unnamed: 0', 'level_0', 'index', 'Timestamp', 'id', 'lat', 'long',\n",
       "       'LastName', 'FirstName', 'CarID', 'CurrentEmploymentType',\n",
       "       'CurrentEmploymentTitle', 'time_delta_seconds', 'timestamp_end',\n",
       "       'time_delta_minutes', 'date', 'time', 'location_status'],\n",
       "      dtype='object')"
      ]
     },
     "execution_count": 33,
     "metadata": {},
     "output_type": "execute_result"
    }
   ],
   "source": [
    "df.columns"
   ]
  },
  {
   "cell_type": "code",
   "execution_count": 34,
   "metadata": {},
   "outputs": [
    {
     "data": {
      "text/html": [
       "<div>\n",
       "<style scoped>\n",
       "    .dataframe tbody tr th:only-of-type {\n",
       "        vertical-align: middle;\n",
       "    }\n",
       "\n",
       "    .dataframe tbody tr th {\n",
       "        vertical-align: top;\n",
       "    }\n",
       "\n",
       "    .dataframe thead th {\n",
       "        text-align: right;\n",
       "    }\n",
       "</style>\n",
       "<table border=\"1\" class=\"dataframe\">\n",
       "  <thead>\n",
       "    <tr style=\"text-align: right;\">\n",
       "      <th></th>\n",
       "      <th>Unnamed: 0</th>\n",
       "      <th>level_0</th>\n",
       "      <th>index</th>\n",
       "      <th>Timestamp</th>\n",
       "      <th>id</th>\n",
       "      <th>lat</th>\n",
       "      <th>long</th>\n",
       "      <th>LastName</th>\n",
       "      <th>FirstName</th>\n",
       "      <th>CarID</th>\n",
       "      <th>CurrentEmploymentType</th>\n",
       "      <th>CurrentEmploymentTitle</th>\n",
       "      <th>time_delta_seconds</th>\n",
       "      <th>timestamp_end</th>\n",
       "      <th>time_delta_minutes</th>\n",
       "      <th>date</th>\n",
       "      <th>time</th>\n",
       "      <th>location_status</th>\n",
       "    </tr>\n",
       "  </thead>\n",
       "  <tbody>\n",
       "    <tr>\n",
       "      <td>0</td>\n",
       "      <td>0</td>\n",
       "      <td>78</td>\n",
       "      <td>2843</td>\n",
       "      <td>2014-01-06 07:22:04</td>\n",
       "      <td>1</td>\n",
       "      <td>36.063658</td>\n",
       "      <td>24.885866</td>\n",
       "      <td>Calixto</td>\n",
       "      <td>Nils</td>\n",
       "      <td>1.0</td>\n",
       "      <td>Information Technology</td>\n",
       "      <td>IT Helpdesk</td>\n",
       "      <td>2097</td>\n",
       "      <td>2014-01-06 07:57:01</td>\n",
       "      <td>34.950000</td>\n",
       "      <td>2014-01-06</td>\n",
       "      <td>07:22:04</td>\n",
       "      <td>sospechoso</td>\n",
       "    </tr>\n",
       "    <tr>\n",
       "      <td>1</td>\n",
       "      <td>1</td>\n",
       "      <td>853</td>\n",
       "      <td>25760</td>\n",
       "      <td>2014-01-06 12:26:27</td>\n",
       "      <td>1</td>\n",
       "      <td>36.076663</td>\n",
       "      <td>24.857591</td>\n",
       "      <td>Calixto</td>\n",
       "      <td>Nils</td>\n",
       "      <td>1.0</td>\n",
       "      <td>Information Technology</td>\n",
       "      <td>IT Helpdesk</td>\n",
       "      <td>3514</td>\n",
       "      <td>2014-01-06 13:25:01</td>\n",
       "      <td>58.566667</td>\n",
       "      <td>2014-01-06</td>\n",
       "      <td>12:26:27</td>\n",
       "      <td>sospechoso</td>\n",
       "    </tr>\n",
       "  </tbody>\n",
       "</table>\n",
       "</div>"
      ],
      "text/plain": [
       "   Unnamed: 0  level_0  index           Timestamp  id        lat       long  \\\n",
       "0           0       78   2843 2014-01-06 07:22:04   1  36.063658  24.885866   \n",
       "1           1      853  25760 2014-01-06 12:26:27   1  36.076663  24.857591   \n",
       "\n",
       "  LastName FirstName  CarID   CurrentEmploymentType CurrentEmploymentTitle  \\\n",
       "0  Calixto      Nils    1.0  Information Technology            IT Helpdesk   \n",
       "1  Calixto      Nils    1.0  Information Technology            IT Helpdesk   \n",
       "\n",
       "   time_delta_seconds       timestamp_end  time_delta_minutes       date  \\\n",
       "0                2097 2014-01-06 07:57:01           34.950000 2014-01-06   \n",
       "1                3514 2014-01-06 13:25:01           58.566667 2014-01-06   \n",
       "\n",
       "       time location_status  \n",
       "0  07:22:04      sospechoso  \n",
       "1  12:26:27      sospechoso  "
      ]
     },
     "execution_count": 34,
     "metadata": {},
     "output_type": "execute_result"
    }
   ],
   "source": [
    "df.head(2)"
   ]
  },
  {
   "cell_type": "code",
   "execution_count": 36,
   "metadata": {},
   "outputs": [
    {
     "data": {
      "text/html": [
       "<div>\n",
       "<style scoped>\n",
       "    .dataframe tbody tr th:only-of-type {\n",
       "        vertical-align: middle;\n",
       "    }\n",
       "\n",
       "    .dataframe tbody tr th {\n",
       "        vertical-align: top;\n",
       "    }\n",
       "\n",
       "    .dataframe thead th {\n",
       "        text-align: right;\n",
       "    }\n",
       "</style>\n",
       "<table border=\"1\" class=\"dataframe\">\n",
       "  <thead>\n",
       "    <tr style=\"text-align: right;\">\n",
       "      <th></th>\n",
       "      <th>Unnamed: 0</th>\n",
       "      <th>level_0</th>\n",
       "      <th>index</th>\n",
       "      <th>Timestamp</th>\n",
       "      <th>id</th>\n",
       "      <th>lat</th>\n",
       "      <th>long</th>\n",
       "      <th>LastName</th>\n",
       "      <th>FirstName</th>\n",
       "      <th>CarID</th>\n",
       "      <th>CurrentEmploymentType</th>\n",
       "      <th>CurrentEmploymentTitle</th>\n",
       "      <th>time_delta_seconds</th>\n",
       "      <th>timestamp_end</th>\n",
       "      <th>time_delta_minutes</th>\n",
       "      <th>date</th>\n",
       "      <th>time</th>\n",
       "      <th>location_status</th>\n",
       "    </tr>\n",
       "  </thead>\n",
       "  <tbody>\n",
       "    <tr>\n",
       "      <td>0</td>\n",
       "      <td>0</td>\n",
       "      <td>78</td>\n",
       "      <td>2843</td>\n",
       "      <td>2014-01-06 07:22:04</td>\n",
       "      <td>1</td>\n",
       "      <td>36.063658</td>\n",
       "      <td>24.885866</td>\n",
       "      <td>Calixto</td>\n",
       "      <td>Nils</td>\n",
       "      <td>1.0</td>\n",
       "      <td>Information Technology</td>\n",
       "      <td>IT Helpdesk</td>\n",
       "      <td>2097</td>\n",
       "      <td>2014-01-06 07:57:01</td>\n",
       "      <td>34.950000</td>\n",
       "      <td>2014-01-06</td>\n",
       "      <td>07:22:04</td>\n",
       "      <td>sospechoso</td>\n",
       "    </tr>\n",
       "    <tr>\n",
       "      <td>1</td>\n",
       "      <td>1</td>\n",
       "      <td>853</td>\n",
       "      <td>25760</td>\n",
       "      <td>2014-01-06 12:26:27</td>\n",
       "      <td>1</td>\n",
       "      <td>36.076663</td>\n",
       "      <td>24.857591</td>\n",
       "      <td>Calixto</td>\n",
       "      <td>Nils</td>\n",
       "      <td>1.0</td>\n",
       "      <td>Information Technology</td>\n",
       "      <td>IT Helpdesk</td>\n",
       "      <td>3514</td>\n",
       "      <td>2014-01-06 13:25:01</td>\n",
       "      <td>58.566667</td>\n",
       "      <td>2014-01-06</td>\n",
       "      <td>12:26:27</td>\n",
       "      <td>sospechoso</td>\n",
       "    </tr>\n",
       "  </tbody>\n",
       "</table>\n",
       "</div>"
      ],
      "text/plain": [
       "   Unnamed: 0  level_0  index           Timestamp  id        lat       long  \\\n",
       "0           0       78   2843 2014-01-06 07:22:04   1  36.063658  24.885866   \n",
       "1           1      853  25760 2014-01-06 12:26:27   1  36.076663  24.857591   \n",
       "\n",
       "  LastName FirstName  CarID   CurrentEmploymentType CurrentEmploymentTitle  \\\n",
       "0  Calixto      Nils    1.0  Information Technology            IT Helpdesk   \n",
       "1  Calixto      Nils    1.0  Information Technology            IT Helpdesk   \n",
       "\n",
       "   time_delta_seconds       timestamp_end  time_delta_minutes        date  \\\n",
       "0                2097 2014-01-06 07:57:01           34.950000  2014-01-06   \n",
       "1                3514 2014-01-06 13:25:01           58.566667  2014-01-06   \n",
       "\n",
       "       time location_status  \n",
       "0  07:22:04      sospechoso  \n",
       "1  12:26:27      sospechoso  "
      ]
     },
     "execution_count": 36,
     "metadata": {},
     "output_type": "execute_result"
    }
   ],
   "source": [
    "df['date'] = df['date'].dt.strftime('%Y-%m-%d')\n",
    "df.head(2)"
   ]
  },
  {
   "cell_type": "code",
   "execution_count": 38,
   "metadata": {},
   "outputs": [
    {
     "data": {
      "text/plain": [
       "Unnamed: 0                         int64\n",
       "level_0                            int64\n",
       "index                              int64\n",
       "Timestamp                 datetime64[ns]\n",
       "id                                 int64\n",
       "lat                              float64\n",
       "long                             float64\n",
       "LastName                          object\n",
       "FirstName                         object\n",
       "CarID                            float64\n",
       "CurrentEmploymentType             object\n",
       "CurrentEmploymentTitle            object\n",
       "time_delta_seconds                 int64\n",
       "timestamp_end             datetime64[ns]\n",
       "time_delta_minutes               float64\n",
       "date                              object\n",
       "time                              object\n",
       "location_status                   object\n",
       "dtype: object"
      ]
     },
     "execution_count": 38,
     "metadata": {},
     "output_type": "execute_result"
    }
   ],
   "source": [
    "df.dtypes"
   ]
  },
  {
   "cell_type": "markdown",
   "metadata": {},
   "source": [
    "## Agrego primer Clave"
   ]
  },
  {
   "cell_type": "code",
   "execution_count": 39,
   "metadata": {},
   "outputs": [],
   "source": [
    "base = {}\n",
    "for i, r in df.iterrows():\n",
    "    base[str(r['date'])] = {}"
   ]
  },
  {
   "cell_type": "code",
   "execution_count": 6,
   "metadata": {},
   "outputs": [],
   "source": [
    "#base"
   ]
  },
  {
   "cell_type": "markdown",
   "metadata": {},
   "source": [
    "## Agrego segunda Clave"
   ]
  },
  {
   "cell_type": "code",
   "execution_count": 40,
   "metadata": {},
   "outputs": [],
   "source": [
    "df_json = df[['date', 'id']]\n",
    "for i, r in df_json.iterrows():\n",
    "    base[r['date']][str(r['id'])] = {}"
   ]
  },
  {
   "cell_type": "code",
   "execution_count": null,
   "metadata": {},
   "outputs": [],
   "source": [
    "#base"
   ]
  },
  {
   "cell_type": "markdown",
   "metadata": {},
   "source": [
    "## Agrego tercer Clave"
   ]
  },
  {
   "cell_type": "code",
   "execution_count": 41,
   "metadata": {},
   "outputs": [],
   "source": [
    "df_json = df[['date', 'id', 'LastName', 'FirstName', 'CurrentEmploymentType', 'CurrentEmploymentTitle']]\n",
    "for i, r in df_json.iterrows():\n",
    "    base[r['date']][str(r['id'])]['CurrentEmploymentType'] = r['CurrentEmploymentType']\n",
    "    base[r['date']][str(r['id'])]['CurrentEmploymentTitle'] = r['CurrentEmploymentTitle']\n",
    "    base[r['date']][str(r['id'])]['LastName'] = r['LastName']\n",
    "    base[r['date']][str(r['id'])]['FirstName'] = r['FirstName']"
   ]
  },
  {
   "cell_type": "code",
   "execution_count": null,
   "metadata": {},
   "outputs": [],
   "source": [
    "#base"
   ]
  },
  {
   "cell_type": "markdown",
   "metadata": {},
   "source": [
    "## Agrego cuarta Clave"
   ]
  },
  {
   "cell_type": "code",
   "execution_count": 42,
   "metadata": {},
   "outputs": [],
   "source": [
    "df_json = df[['date', 'id', 'time', 'lat', 'long']]\n",
    "for i, r in df_json.iterrows():\n",
    "    base[r['date']][str(r['id'])][str(r['time'])] = (r['lat'], r['long'])"
   ]
  },
  {
   "cell_type": "code",
   "execution_count": 44,
   "metadata": {},
   "outputs": [],
   "source": [
    "#base"
   ]
  },
  {
   "cell_type": "code",
   "execution_count": 45,
   "metadata": {},
   "outputs": [],
   "source": [
    "import json\n",
    "with open('./data/gps_summary.json', 'w') as f:\n",
    "    json.dump(base, f)"
   ]
  }
 ],
 "metadata": {
  "kernelspec": {
   "display_name": "Python 3",
   "language": "python",
   "name": "python3"
  },
  "language_info": {
   "codemirror_mode": {
    "name": "ipython",
    "version": 3
   },
   "file_extension": ".py",
   "mimetype": "text/x-python",
   "name": "python",
   "nbconvert_exporter": "python",
   "pygments_lexer": "ipython3",
   "version": "3.7.4"
  }
 },
 "nbformat": 4,
 "nbformat_minor": 2
}
